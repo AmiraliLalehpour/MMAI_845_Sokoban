{
 "cells": [
  {
   "cell_type": "code",
   "execution_count": 1,
   "id": "34dd8d3d",
   "metadata": {},
   "outputs": [],
   "source": [
    "import numpy as np\n",
    "import gym\n",
    "import gym_sokoban\n",
    "import time"
   ]
  },
  {
   "cell_type": "code",
   "execution_count": 2,
   "id": "a9bf06c3",
   "metadata": {},
   "outputs": [],
   "source": [
    "# pip install gym==0.21.0"
   ]
  },
  {
   "cell_type": "code",
   "execution_count": 3,
   "id": "18100b89",
   "metadata": {},
   "outputs": [],
   "source": [
    "# import gym\n",
    "\n",
    "# print(gym.__version__)"
   ]
  },
  {
   "cell_type": "code",
   "execution_count": 4,
   "id": "c2812524",
   "metadata": {},
   "outputs": [
    {
     "name": "stdout",
     "output_type": "stream",
     "text": [
      "TensorFlow version: 2.13.0\n",
      "NumPy version: 1.24.3\n"
     ]
    }
   ],
   "source": [
    "import tensorflow as tf\n",
    "import numpy as np\n",
    "\n",
    "print(\"TensorFlow version:\", tf.__version__)\n",
    "print(\"NumPy version:\", np.__version__)"
   ]
  },
  {
   "cell_type": "code",
   "execution_count": 5,
   "id": "bbace1e4",
   "metadata": {},
   "outputs": [],
   "source": [
    "from sokoban_env import SokobanEnv"
   ]
  },
  {
   "cell_type": "code",
   "execution_count": 6,
   "id": "a8cd260a",
   "metadata": {},
   "outputs": [
    {
     "name": "stdout",
     "output_type": "stream",
     "text": [
      "3.9.17 (main, Jul  5 2023, 21:22:06) [MSC v.1916 64 bit (AMD64)]\n"
     ]
    }
   ],
   "source": [
    "import sys\n",
    "\n",
    "print(sys.version)"
   ]
  },
  {
   "cell_type": "code",
   "execution_count": 7,
   "id": "aad5f7ef",
   "metadata": {},
   "outputs": [],
   "source": [
    "# !pip install pygame"
   ]
  },
  {
   "cell_type": "code",
   "execution_count": 8,
   "id": "5f99f8e9",
   "metadata": {},
   "outputs": [],
   "source": [
    "# !pip install tensorflow"
   ]
  },
  {
   "cell_type": "markdown",
   "id": "b28d5127",
   "metadata": {},
   "source": [
    "# SARSA Implementation"
   ]
  },
  {
   "cell_type": "code",
   "execution_count": 9,
   "id": "4213f396",
   "metadata": {},
   "outputs": [],
   "source": [
    "# Create the Sokoban environment\n",
    "env_name = 'Sokoban-v2'\n",
    "env = gym.make(env_name)"
   ]
  },
  {
   "cell_type": "code",
   "execution_count": 10,
   "id": "29c55f06",
   "metadata": {},
   "outputs": [
    {
     "data": {
      "text/plain": [
       "True"
      ]
     },
     "execution_count": 10,
     "metadata": {},
     "output_type": "execute_result"
    }
   ],
   "source": [
    "env.render(mode='human')"
   ]
  },
  {
   "cell_type": "code",
   "execution_count": 11,
   "id": "2b41aab0",
   "metadata": {},
   "outputs": [],
   "source": [
    "# Action lookup\n",
    "ACTION_LOOKUP = env.unwrapped.get_action_lookup()\n",
    "# Convert state to tuple representation (for tabular SARSA)\n",
    "def state_to_tuple(state):\n",
    "    return tuple(state.ravel())"
   ]
  },
  {
   "cell_type": "code",
   "execution_count": null,
   "id": "6e63c92d",
   "metadata": {},
   "outputs": [],
   "source": [
    "# SARSA parameters\n",
    "num_episodes = 100\n",
    "learning_rate = 0.3\n",
    "discount_factor = 0.99\n",
    "exploration_prob = 0.05\n",
    "\n",
    "# Q-table initialization\n",
    "q_table = {}\n",
    "\n",
    "\n",
    "# SARSA algorithm\n",
    "for episode in range(num_episodes):\n",
    "    state = env.reset()  \n",
    "    done = False\n",
    "    total_reward = 0\n",
    "\n",
    "    # Initialize Q-values for the current state if not present\n",
    "    if state_tuple not in q_table:\n",
    "        q_table[state_tuple] = np.zeros(env.action_space.n)\n",
    "\n",
    "    # Choose the initial action based on epsilon-greedy policy\n",
    "    if np.random.rand() < exploration_prob:\n",
    "        action = env.action_space.sample()\n",
    "    else:\n",
    "        action = np.argmax(q_table[state_tuple])\n",
    "\n",
    "    while not done:\n",
    "        env.render(mode='human')\n",
    "        time.sleep(1)\n",
    "\n",
    "        # Take the chosen action\n",
    "        next_state, reward, done, _ = env.step(action)\n",
    "        next_state_tuple = state_to_tuple(next_state)\n",
    "\n",
    "        # Initialize Q-values for the next state if not present\n",
    "        if next_state_tuple not in q_table:\n",
    "            q_table[next_state_tuple] = np.zeros(env.action_space.n)\n",
    "\n",
    "        # Choose the next action based on epsilon-greedy policy\n",
    "        if np.random.rand() < exploration_prob:\n",
    "            next_action = env.action_space.sample()\n",
    "        else:\n",
    "            next_action = np.argmax(q_table[next_state_tuple])\n",
    "\n",
    "        # SARSA Q-value update\n",
    "        q_value = q_table[state_tuple][action]\n",
    "        next_q_value = q_table[next_state_tuple][next_action]\n",
    "        q_table[state_tuple][action] = q_value + learning_rate * (reward + discount_factor * next_q_value - q_value)\n",
    "\n",
    "        state = next_state.copy()  # Copy the next_state into the state variable\n",
    "        state_tuple = next_state_tuple\n",
    "        action = next_action\n",
    "        total_reward += reward\n",
    "\n",
    "        if done:\n",
    "            print(\"Episode: {}, Total Reward: {}\".format(episode + 1, total_reward))\n",
    "            break\n",
    "\n",
    "env.close()"
   ]
  },
  {
   "cell_type": "code",
   "execution_count": null,
   "id": "f96502d4",
   "metadata": {},
   "outputs": [],
   "source": []
  }
 ],
 "metadata": {
  "kernelspec": {
   "display_name": "Python 3 (ipykernel)",
   "language": "python",
   "name": "python3"
  },
  "language_info": {
   "codemirror_mode": {
    "name": "ipython",
    "version": 3
   },
   "file_extension": ".py",
   "mimetype": "text/x-python",
   "name": "python",
   "nbconvert_exporter": "python",
   "pygments_lexer": "ipython3",
   "version": "3.9.17"
  }
 },
 "nbformat": 4,
 "nbformat_minor": 5
}
