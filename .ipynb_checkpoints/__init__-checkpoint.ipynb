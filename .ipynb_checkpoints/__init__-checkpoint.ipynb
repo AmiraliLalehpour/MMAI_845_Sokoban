{
 "cells": [
  {
   "cell_type": "code",
   "execution_count": null,
   "id": "4ede1bbe",
   "metadata": {},
   "outputs": [],
   "source": [
    "from gym_sokoban.envs.sokoban_env import SokobanEnv, ACTION_LOOKUP, CHANGE_COORDINATES\n",
    "from gym_sokoban.envs import room_utils\n",
    "from gym_sokoban.envs.sokoban_env_variations import *"
   ]
  }
 ],
 "metadata": {
  "kernelspec": {
   "display_name": "Python 3 (ipykernel)",
   "language": "python",
   "name": "python3"
  },
  "language_info": {
   "codemirror_mode": {
    "name": "ipython",
    "version": 3
   },
   "file_extension": ".py",
   "mimetype": "text/x-python",
   "name": "python",
   "nbconvert_exporter": "python",
   "pygments_lexer": "ipython3",
   "version": "3.9.17"
  }
 },
 "nbformat": 4,
 "nbformat_minor": 5
}
