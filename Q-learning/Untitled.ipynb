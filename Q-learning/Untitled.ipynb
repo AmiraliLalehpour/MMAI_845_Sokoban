{
 "cells": [
  {
   "cell_type": "code",
   "execution_count": 6,
   "id": "c2812524",
   "metadata": {},
   "outputs": [
    {
     "name": "stdout",
     "output_type": "stream",
     "text": [
      "TensorFlow version: 2.13.0\n",
      "NumPy version: 1.24.3\n"
     ]
    }
   ],
   "source": [
    "import tensorflow as tf\n",
    "import numpy as np\n",
    "\n",
    "print(\"TensorFlow version:\", tf.__version__)\n",
    "print(\"NumPy version:\", np.__version__)"
   ]
  },
  {
   "cell_type": "code",
   "execution_count": 7,
   "id": "aad5f7ef",
   "metadata": {},
   "outputs": [
    {
     "name": "stdout",
     "output_type": "stream",
     "text": [
      "Collecting pygame\n",
      "  Downloading pygame-2.5.0-cp39-cp39-win_amd64.whl (10.5 MB)\n",
      "                                              0.0/10.5 MB ? eta -:--:--\n",
      "     -----                                    1.5/10.5 MB 45.1 MB/s eta 0:00:01\n",
      "     --------------                           3.8/10.5 MB 48.7 MB/s eta 0:00:01\n",
      "     -----------------------                  6.1/10.5 MB 55.1 MB/s eta 0:00:01\n",
      "     --------------------------------         8.6/10.5 MB 54.9 MB/s eta 0:00:01\n",
      "     --------------------------------------  10.5/10.5 MB 59.5 MB/s eta 0:00:01\n",
      "     --------------------------------------- 10.5/10.5 MB 50.3 MB/s eta 0:00:00\n",
      "Installing collected packages: pygame\n",
      "Successfully installed pygame-2.5.0\n",
      "Note: you may need to restart the kernel to use updated packages.\n"
     ]
    }
   ],
   "source": [
    "!pip install pygame"
   ]
  },
  {
   "cell_type": "code",
   "execution_count": 5,
   "id": "5f99f8e9",
   "metadata": {},
   "outputs": [
    {
     "name": "stdout",
     "output_type": "stream",
     "text": [
      "Collecting tensorflow\n",
      "  Downloading tensorflow-2.13.0-cp39-cp39-win_amd64.whl (1.9 kB)\n",
      "Collecting tensorflow-intel==2.13.0 (from tensorflow)\n",
      "  Downloading tensorflow_intel-2.13.0-cp39-cp39-win_amd64.whl (276.5 MB)\n",
      "                                              0.0/276.5 MB ? eta -:--:--\n",
      "                                             0.5/276.5 MB 17.2 MB/s eta 0:00:17\n",
      "                                             1.5/276.5 MB 18.5 MB/s eta 0:00:15\n",
      "                                             2.6/276.5 MB 23.7 MB/s eta 0:00:12\n",
      "                                             4.0/276.5 MB 23.3 MB/s eta 0:00:12\n",
      "                                             4.7/276.5 MB 23.0 MB/s eta 0:00:12\n",
      "                                             5.5/276.5 MB 21.9 MB/s eta 0:00:13\n",
      "                                             6.4/276.5 MB 22.7 MB/s eta 0:00:12\n",
      "     -                                       7.4/276.5 MB 22.5 MB/s eta 0:00:12\n",
      "     -                                       8.4/276.5 MB 23.4 MB/s eta 0:00:12\n",
      "     -                                      10.2/276.5 MB 25.1 MB/s eta 0:00:11\n",
      "     -                                      12.3/276.5 MB 28.4 MB/s eta 0:00:10\n",
      "     -                                      14.1/276.5 MB 31.2 MB/s eta 0:00:09\n",
      "     --                                     16.4/276.5 MB 40.9 MB/s eta 0:00:07\n",
      "     --                                     18.7/276.5 MB 54.7 MB/s eta 0:00:05\n",
      "     --                                     20.8/276.5 MB 54.4 MB/s eta 0:00:05\n",
      "     ---                                    22.9/276.5 MB 54.7 MB/s eta 0:00:05\n",
      "     ---                                    25.4/276.5 MB 54.7 MB/s eta 0:00:05\n",
      "     ---                                    27.3/276.5 MB 54.4 MB/s eta 0:00:05\n",
      "     ----                                   30.4/276.5 MB 50.4 MB/s eta 0:00:05\n",
      "     ----                                   32.8/276.5 MB 54.4 MB/s eta 0:00:05\n",
      "     ----                                   35.3/276.5 MB 54.4 MB/s eta 0:00:05\n",
      "     -----                                  37.4/276.5 MB 54.4 MB/s eta 0:00:05\n",
      "     -----                                  39.4/276.5 MB 59.5 MB/s eta 0:00:04\n",
      "     -----                                  42.5/276.5 MB 65.6 MB/s eta 0:00:04\n",
      "     ------                                 44.2/276.5 MB 59.5 MB/s eta 0:00:04\n",
      "     ------                                 45.4/276.5 MB 50.4 MB/s eta 0:00:05\n",
      "     ------                                 47.7/276.5 MB 50.4 MB/s eta 0:00:05\n",
      "     ------                                 49.3/276.5 MB 50.4 MB/s eta 0:00:05\n",
      "     -------                                52.2/276.5 MB 46.7 MB/s eta 0:00:05\n",
      "     -------                                54.4/276.5 MB 46.7 MB/s eta 0:00:05\n",
      "     -------                                56.2/276.5 MB 54.7 MB/s eta 0:00:05\n",
      "     -------                                57.8/276.5 MB 50.4 MB/s eta 0:00:05\n",
      "     -------                                58.0/276.5 MB 40.9 MB/s eta 0:00:06\n",
      "     --------                               62.3/276.5 MB 50.4 MB/s eta 0:00:05\n",
      "     --------                               64.0/276.5 MB 54.4 MB/s eta 0:00:04\n",
      "     ---------                              67.3/276.5 MB 59.5 MB/s eta 0:00:04\n",
      "     ---------                              69.9/276.5 MB 65.6 MB/s eta 0:00:04\n",
      "     ---------                              72.4/276.5 MB 59.5 MB/s eta 0:00:04\n",
      "     ----------                             74.6/276.5 MB 73.1 MB/s eta 0:00:03\n",
      "     ----------                             76.5/276.5 MB 59.5 MB/s eta 0:00:04\n",
      "     ----------                             78.7/276.5 MB 59.8 MB/s eta 0:00:04\n",
      "     -----------                            81.4/276.5 MB 54.7 MB/s eta 0:00:04\n",
      "     -----------                            83.6/276.5 MB 54.4 MB/s eta 0:00:04\n",
      "     -----------                            86.1/276.5 MB 54.7 MB/s eta 0:00:04\n",
      "     ------------                           88.6/276.5 MB 59.5 MB/s eta 0:00:04\n",
      "     ------------                           90.8/276.5 MB 59.5 MB/s eta 0:00:04\n",
      "     ------------                           92.8/276.5 MB 59.8 MB/s eta 0:00:04\n",
      "     -------------                          95.7/276.5 MB 54.7 MB/s eta 0:00:04\n",
      "     -------------                          98.9/276.5 MB 59.5 MB/s eta 0:00:03\n",
      "     -------------                         101.3/276.5 MB 65.6 MB/s eta 0:00:03\n",
      "     -------------                         103.6/276.5 MB 59.5 MB/s eta 0:00:03\n",
      "     --------------                        106.3/276.5 MB 65.2 MB/s eta 0:00:03\n",
      "     --------------                        108.6/276.5 MB 65.6 MB/s eta 0:00:03\n",
      "     --------------                        111.0/276.5 MB 59.5 MB/s eta 0:00:03\n",
      "     ---------------                       113.4/276.5 MB 59.5 MB/s eta 0:00:03\n",
      "     ---------------                       115.5/276.5 MB 54.7 MB/s eta 0:00:03\n",
      "     ---------------                       118.1/276.5 MB 59.5 MB/s eta 0:00:03\n",
      "     ----------------                      120.2/276.5 MB 54.4 MB/s eta 0:00:03\n",
      "     ----------------                      122.7/276.5 MB 59.5 MB/s eta 0:00:03\n",
      "     ----------------                      125.2/276.5 MB 59.5 MB/s eta 0:00:03\n",
      "     -----------------                     127.6/276.5 MB 59.5 MB/s eta 0:00:03\n",
      "     -----------------                     130.0/276.5 MB 59.5 MB/s eta 0:00:03\n",
      "     -----------------                     132.4/276.5 MB 59.5 MB/s eta 0:00:03\n",
      "     -----------------                     134.3/276.5 MB 59.5 MB/s eta 0:00:03\n",
      "     ------------------                    136.5/276.5 MB 59.5 MB/s eta 0:00:03\n",
      "     ------------------                    138.5/276.5 MB 54.7 MB/s eta 0:00:03\n",
      "     ------------------                    140.6/276.5 MB 54.7 MB/s eta 0:00:03\n",
      "     -------------------                   143.1/276.5 MB 50.4 MB/s eta 0:00:03\n",
      "     -------------------                   145.1/276.5 MB 54.7 MB/s eta 0:00:03\n",
      "     -------------------                   147.5/276.5 MB 50.4 MB/s eta 0:00:03\n",
      "     -------------------                   149.3/276.5 MB 50.4 MB/s eta 0:00:03\n",
      "     --------------------                  151.4/276.5 MB 54.7 MB/s eta 0:00:03\n",
      "     --------------------                  153.4/276.5 MB 50.4 MB/s eta 0:00:03\n",
      "     --------------------                  155.6/276.5 MB 50.4 MB/s eta 0:00:03\n",
      "     ---------------------                 157.8/276.5 MB 46.7 MB/s eta 0:00:03\n",
      "     ---------------------                 159.8/276.5 MB 50.4 MB/s eta 0:00:03\n",
      "     ---------------------                 162.3/276.5 MB 54.7 MB/s eta 0:00:03\n",
      "     ----------------------                164.4/276.5 MB 54.7 MB/s eta 0:00:03\n",
      "     ----------------------                166.7/276.5 MB 54.4 MB/s eta 0:00:03\n",
      "     ----------------------                169.1/276.5 MB 59.5 MB/s eta 0:00:02\n",
      "     ----------------------                171.3/276.5 MB 54.7 MB/s eta 0:00:02\n",
      "     -----------------------               173.5/276.5 MB 59.5 MB/s eta 0:00:02\n",
      "     -----------------------               175.8/276.5 MB 59.5 MB/s eta 0:00:02\n",
      "     -----------------------               178.1/276.5 MB 54.7 MB/s eta 0:00:02\n",
      "     ------------------------              180.5/276.5 MB 54.4 MB/s eta 0:00:02\n",
      "     ------------------------              182.7/276.5 MB 54.7 MB/s eta 0:00:02\n",
      "     ------------------------              184.8/276.5 MB 59.8 MB/s eta 0:00:02\n",
      "     -------------------------             186.8/276.5 MB 54.7 MB/s eta 0:00:02\n",
      "     -------------------------             188.5/276.5 MB 50.4 MB/s eta 0:00:02\n",
      "     -------------------------             190.9/276.5 MB 54.7 MB/s eta 0:00:02\n",
      "     -------------------------             192.2/276.5 MB 46.9 MB/s eta 0:00:02\n",
      "     --------------------------            194.4/276.5 MB 50.1 MB/s eta 0:00:02\n",
      "     --------------------------            196.4/276.5 MB 46.9 MB/s eta 0:00:02\n",
      "     --------------------------            198.7/276.5 MB 50.4 MB/s eta 0:00:02\n",
      "     --------------------------            201.1/276.5 MB 50.1 MB/s eta 0:00:02\n",
      "     ---------------------------           202.9/276.5 MB 54.7 MB/s eta 0:00:02\n",
      "     ---------------------------           204.5/276.5 MB 50.4 MB/s eta 0:00:02\n",
      "     ---------------------------           206.0/276.5 MB 46.7 MB/s eta 0:00:02\n",
      "     ---------------------------           208.6/276.5 MB 43.7 MB/s eta 0:00:02\n",
      "     ----------------------------          211.1/276.5 MB 43.7 MB/s eta 0:00:02\n",
      "     ----------------------------          215.7/276.5 MB 65.6 MB/s eta 0:00:01\n",
      "     -----------------------------         219.4/276.5 MB 81.8 MB/s eta 0:00:01\n",
      "     -----------------------------         222.2/276.5 MB 81.8 MB/s eta 0:00:01\n",
      "     ------------------------------        224.7/276.5 MB 72.6 MB/s eta 0:00:01\n",
      "     ------------------------------        226.9/276.5 MB 72.6 MB/s eta 0:00:01\n",
      "     ------------------------------        229.9/276.5 MB 59.5 MB/s eta 0:00:01\n",
      "     -------------------------------       232.4/276.5 MB 59.5 MB/s eta 0:00:01\n",
      "     -------------------------------       234.6/276.5 MB 65.6 MB/s eta 0:00:01\n",
      "     -------------------------------       236.9/276.5 MB 59.5 MB/s eta 0:00:01\n",
      "     --------------------------------      239.4/276.5 MB 59.5 MB/s eta 0:00:01\n",
      "     --------------------------------      241.8/276.5 MB 54.4 MB/s eta 0:00:01\n",
      "     --------------------------------      244.1/276.5 MB 59.5 MB/s eta 0:00:01\n",
      "     ---------------------------------     246.7/276.5 MB 59.5 MB/s eta 0:00:01\n",
      "     ---------------------------------     249.1/276.5 MB 54.4 MB/s eta 0:00:01\n",
      "     ---------------------------------     251.4/276.5 MB 59.5 MB/s eta 0:00:01\n",
      "     ---------------------------------     253.6/276.5 MB 54.4 MB/s eta 0:00:01\n",
      "     ----------------------------------    255.9/276.5 MB 59.5 MB/s eta 0:00:01\n",
      "     ----------------------------------    257.9/276.5 MB 54.4 MB/s eta 0:00:01\n",
      "     ----------------------------------    259.8/276.5 MB 50.4 MB/s eta 0:00:01\n",
      "     -----------------------------------   262.8/276.5 MB 50.4 MB/s eta 0:00:01\n",
      "     -----------------------------------   266.5/276.5 MB 59.5 MB/s eta 0:00:01\n",
      "     ------------------------------------  269.8/276.5 MB 65.6 MB/s eta 0:00:01\n",
      "     ------------------------------------  272.1/276.5 MB 72.6 MB/s eta 0:00:01\n",
      "     ------------------------------------  274.3/276.5 MB 72.6 MB/s eta 0:00:01\n",
      "     ------------------------------------  276.5/276.5 MB 65.6 MB/s eta 0:00:01\n",
      "     ------------------------------------  276.5/276.5 MB 65.6 MB/s eta 0:00:01\n",
      "     ------------------------------------  276.5/276.5 MB 65.6 MB/s eta 0:00:01\n",
      "     ------------------------------------  276.5/276.5 MB 65.6 MB/s eta 0:00:01\n",
      "     ------------------------------------  276.5/276.5 MB 65.6 MB/s eta 0:00:01\n",
      "     ------------------------------------  276.5/276.5 MB 65.6 MB/s eta 0:00:01\n",
      "     ------------------------------------  276.5/276.5 MB 65.6 MB/s eta 0:00:01\n",
      "     ------------------------------------  276.5/276.5 MB 65.6 MB/s eta 0:00:01\n",
      "     ------------------------------------  276.5/276.5 MB 65.6 MB/s eta 0:00:01\n",
      "     ------------------------------------  276.5/276.5 MB 65.6 MB/s eta 0:00:01\n",
      "     ------------------------------------  276.5/276.5 MB 65.6 MB/s eta 0:00:01\n",
      "     ------------------------------------  276.5/276.5 MB 65.6 MB/s eta 0:00:01\n",
      "     ------------------------------------  276.5/276.5 MB 65.6 MB/s eta 0:00:01\n",
      "     ------------------------------------  276.5/276.5 MB 65.6 MB/s eta 0:00:01\n",
      "     -------------------------------------- 276.5/276.5 MB 9.4 MB/s eta 0:00:00\n",
      "Collecting absl-py>=1.0.0 (from tensorflow-intel==2.13.0->tensorflow)\n",
      "  Using cached absl_py-1.4.0-py3-none-any.whl (126 kB)\n",
      "Collecting astunparse>=1.6.0 (from tensorflow-intel==2.13.0->tensorflow)\n",
      "  Using cached astunparse-1.6.3-py2.py3-none-any.whl (12 kB)\n",
      "Collecting flatbuffers>=23.1.21 (from tensorflow-intel==2.13.0->tensorflow)\n",
      "  Using cached flatbuffers-23.5.26-py2.py3-none-any.whl (26 kB)\n",
      "Collecting gast<=0.4.0,>=0.2.1 (from tensorflow-intel==2.13.0->tensorflow)\n",
      "  Using cached gast-0.4.0-py3-none-any.whl (9.8 kB)\n",
      "Collecting google-pasta>=0.1.1 (from tensorflow-intel==2.13.0->tensorflow)\n",
      "  Using cached google_pasta-0.2.0-py3-none-any.whl (57 kB)\n",
      "Requirement already satisfied: h5py>=2.9.0 in c:\\users\\lalep\\anaconda3\\lib\\site-packages (from tensorflow-intel==2.13.0->tensorflow) (3.7.0)\n",
      "Collecting libclang>=13.0.0 (from tensorflow-intel==2.13.0->tensorflow)\n",
      "  Using cached libclang-16.0.0-py2.py3-none-win_amd64.whl (24.4 MB)\n",
      "Requirement already satisfied: numpy<=1.24.3,>=1.22 in c:\\users\\lalep\\anaconda3\\lib\\site-packages (from tensorflow-intel==2.13.0->tensorflow) (1.24.3)\n",
      "Collecting opt-einsum>=2.3.2 (from tensorflow-intel==2.13.0->tensorflow)\n",
      "  Using cached opt_einsum-3.3.0-py3-none-any.whl (65 kB)\n",
      "Requirement already satisfied: packaging in c:\\users\\lalep\\anaconda3\\lib\\site-packages (from tensorflow-intel==2.13.0->tensorflow) (23.0)\n",
      "Collecting protobuf!=4.21.0,!=4.21.1,!=4.21.2,!=4.21.3,!=4.21.4,!=4.21.5,<5.0.0dev,>=3.20.3 (from tensorflow-intel==2.13.0->tensorflow)\n",
      "  Downloading protobuf-4.23.4-cp39-cp39-win_amd64.whl (422 kB)\n",
      "                                              0.0/422.5 kB ? eta -:--:--\n",
      "     ---------------------------------------- 422.5/422.5 kB ? eta 0:00:00\n",
      "Requirement already satisfied: setuptools in c:\\users\\lalep\\anaconda3\\lib\\site-packages (from tensorflow-intel==2.13.0->tensorflow) (67.8.0)\n",
      "Requirement already satisfied: six>=1.12.0 in c:\\users\\lalep\\anaconda3\\lib\\site-packages (from tensorflow-intel==2.13.0->tensorflow) (1.16.0)\n",
      "Collecting termcolor>=1.1.0 (from tensorflow-intel==2.13.0->tensorflow)\n",
      "  Using cached termcolor-2.3.0-py3-none-any.whl (6.9 kB)\n",
      "Collecting typing-extensions<4.6.0,>=3.6.6 (from tensorflow-intel==2.13.0->tensorflow)\n",
      "  Using cached typing_extensions-4.5.0-py3-none-any.whl (27 kB)\n",
      "Requirement already satisfied: wrapt>=1.11.0 in c:\\users\\lalep\\anaconda3\\lib\\site-packages (from tensorflow-intel==2.13.0->tensorflow) (1.14.1)\n",
      "Collecting grpcio<2.0,>=1.24.3 (from tensorflow-intel==2.13.0->tensorflow)\n",
      "  Downloading grpcio-1.56.0-cp39-cp39-win_amd64.whl (4.2 MB)\n",
      "                                              0.0/4.2 MB ? eta -:--:--\n",
      "     ---------------                          1.7/4.2 MB 53.8 MB/s eta 0:00:01\n",
      "     ---------------------------------        3.6/4.2 MB 57.8 MB/s eta 0:00:01\n",
      "     ---------------------------------------- 4.2/4.2 MB 45.5 MB/s eta 0:00:00\n",
      "Collecting tensorboard<2.14,>=2.13 (from tensorflow-intel==2.13.0->tensorflow)\n",
      "  Using cached tensorboard-2.13.0-py3-none-any.whl (5.6 MB)\n",
      "Collecting tensorflow-estimator<2.14,>=2.13.0 (from tensorflow-intel==2.13.0->tensorflow)\n",
      "  Using cached tensorflow_estimator-2.13.0-py2.py3-none-any.whl (440 kB)\n",
      "Collecting keras<2.14,>=2.13.1 (from tensorflow-intel==2.13.0->tensorflow)\n",
      "  Using cached keras-2.13.1-py3-none-any.whl (1.7 MB)\n",
      "Collecting tensorflow-io-gcs-filesystem>=0.23.1 (from tensorflow-intel==2.13.0->tensorflow)\n",
      "  Downloading tensorflow_io_gcs_filesystem-0.31.0-cp39-cp39-win_amd64.whl (1.5 MB)\n",
      "                                              0.0/1.5 MB ? eta -:--:--\n",
      "     ---------------------------------------- 1.5/1.5 MB 47.6 MB/s eta 0:00:00\n",
      "Requirement already satisfied: wheel<1.0,>=0.23.0 in c:\\users\\lalep\\anaconda3\\lib\\site-packages (from astunparse>=1.6.0->tensorflow-intel==2.13.0->tensorflow) (0.38.4)\n",
      "Collecting google-auth<3,>=1.6.3 (from tensorboard<2.14,>=2.13->tensorflow-intel==2.13.0->tensorflow)\n",
      "  Using cached google_auth-2.22.0-py2.py3-none-any.whl (181 kB)\n",
      "Collecting google-auth-oauthlib<1.1,>=0.5 (from tensorboard<2.14,>=2.13->tensorflow-intel==2.13.0->tensorflow)\n",
      "  Using cached google_auth_oauthlib-1.0.0-py2.py3-none-any.whl (18 kB)\n",
      "Requirement already satisfied: markdown>=2.6.8 in c:\\users\\lalep\\anaconda3\\lib\\site-packages (from tensorboard<2.14,>=2.13->tensorflow-intel==2.13.0->tensorflow) (3.4.1)\n",
      "Requirement already satisfied: requests<3,>=2.21.0 in c:\\users\\lalep\\anaconda3\\lib\\site-packages (from tensorboard<2.14,>=2.13->tensorflow-intel==2.13.0->tensorflow) (2.29.0)\n",
      "Collecting tensorboard-data-server<0.8.0,>=0.7.0 (from tensorboard<2.14,>=2.13->tensorflow-intel==2.13.0->tensorflow)\n",
      "  Using cached tensorboard_data_server-0.7.1-py3-none-any.whl (2.4 kB)\n",
      "Requirement already satisfied: werkzeug>=1.0.1 in c:\\users\\lalep\\anaconda3\\lib\\site-packages (from tensorboard<2.14,>=2.13->tensorflow-intel==2.13.0->tensorflow) (2.2.3)\n",
      "Collecting cachetools<6.0,>=2.0.0 (from google-auth<3,>=1.6.3->tensorboard<2.14,>=2.13->tensorflow-intel==2.13.0->tensorflow)\n",
      "  Using cached cachetools-5.3.1-py3-none-any.whl (9.3 kB)\n",
      "Requirement already satisfied: pyasn1-modules>=0.2.1 in c:\\users\\lalep\\anaconda3\\lib\\site-packages (from google-auth<3,>=1.6.3->tensorboard<2.14,>=2.13->tensorflow-intel==2.13.0->tensorflow) (0.2.8)\n",
      "Collecting rsa<5,>=3.1.4 (from google-auth<3,>=1.6.3->tensorboard<2.14,>=2.13->tensorflow-intel==2.13.0->tensorflow)\n",
      "  Using cached rsa-4.9-py3-none-any.whl (34 kB)\n",
      "Requirement already satisfied: urllib3<2.0 in c:\\users\\lalep\\anaconda3\\lib\\site-packages (from google-auth<3,>=1.6.3->tensorboard<2.14,>=2.13->tensorflow-intel==2.13.0->tensorflow) (1.26.16)\n",
      "Requirement already satisfied: requests-oauthlib>=0.7.0 in c:\\users\\lalep\\anaconda3\\lib\\site-packages (from google-auth-oauthlib<1.1,>=0.5->tensorboard<2.14,>=2.13->tensorflow-intel==2.13.0->tensorflow) (1.3.1)\n",
      "Requirement already satisfied: importlib-metadata>=4.4 in c:\\users\\lalep\\anaconda3\\lib\\site-packages (from markdown>=2.6.8->tensorboard<2.14,>=2.13->tensorflow-intel==2.13.0->tensorflow) (6.0.0)\n",
      "Requirement already satisfied: charset-normalizer<4,>=2 in c:\\users\\lalep\\anaconda3\\lib\\site-packages (from requests<3,>=2.21.0->tensorboard<2.14,>=2.13->tensorflow-intel==2.13.0->tensorflow) (2.0.4)\n",
      "Requirement already satisfied: idna<4,>=2.5 in c:\\users\\lalep\\anaconda3\\lib\\site-packages (from requests<3,>=2.21.0->tensorboard<2.14,>=2.13->tensorflow-intel==2.13.0->tensorflow) (3.4)\n",
      "Requirement already satisfied: certifi>=2017.4.17 in c:\\users\\lalep\\anaconda3\\lib\\site-packages (from requests<3,>=2.21.0->tensorboard<2.14,>=2.13->tensorflow-intel==2.13.0->tensorflow) (2023.5.7)\n",
      "Requirement already satisfied: MarkupSafe>=2.1.1 in c:\\users\\lalep\\anaconda3\\lib\\site-packages (from werkzeug>=1.0.1->tensorboard<2.14,>=2.13->tensorflow-intel==2.13.0->tensorflow) (2.1.1)\n",
      "Requirement already satisfied: zipp>=0.5 in c:\\users\\lalep\\anaconda3\\lib\\site-packages (from importlib-metadata>=4.4->markdown>=2.6.8->tensorboard<2.14,>=2.13->tensorflow-intel==2.13.0->tensorflow) (3.11.0)\n",
      "Requirement already satisfied: pyasn1<0.5.0,>=0.4.6 in c:\\users\\lalep\\anaconda3\\lib\\site-packages (from pyasn1-modules>=0.2.1->google-auth<3,>=1.6.3->tensorboard<2.14,>=2.13->tensorflow-intel==2.13.0->tensorflow) (0.4.8)\n",
      "Requirement already satisfied: oauthlib>=3.0.0 in c:\\users\\lalep\\anaconda3\\lib\\site-packages (from requests-oauthlib>=0.7.0->google-auth-oauthlib<1.1,>=0.5->tensorboard<2.14,>=2.13->tensorflow-intel==2.13.0->tensorflow) (3.2.2)\n",
      "Installing collected packages: libclang, flatbuffers, typing-extensions, termcolor, tensorflow-io-gcs-filesystem, tensorflow-estimator, tensorboard-data-server, rsa, protobuf, opt-einsum, keras, grpcio, google-pasta, gast, cachetools, astunparse, absl-py, google-auth, google-auth-oauthlib, tensorboard, tensorflow-intel, tensorflow\n",
      "  Attempting uninstall: typing-extensions\n",
      "    Found existing installation: typing_extensions 4.6.3\n",
      "    Uninstalling typing_extensions-4.6.3:\n",
      "      Successfully uninstalled typing_extensions-4.6.3\n",
      "Successfully installed absl-py-1.4.0 astunparse-1.6.3 cachetools-5.3.1 flatbuffers-23.5.26 gast-0.4.0 google-auth-2.22.0 google-auth-oauthlib-1.0.0 google-pasta-0.2.0 grpcio-1.56.0 keras-2.13.1 libclang-16.0.0 opt-einsum-3.3.0 protobuf-4.23.4 rsa-4.9 tensorboard-2.13.0 tensorboard-data-server-0.7.1 tensorflow-2.13.0 tensorflow-estimator-2.13.0 tensorflow-intel-2.13.0 tensorflow-io-gcs-filesystem-0.31.0 termcolor-2.3.0 typing-extensions-4.5.0\n"
     ]
    },
    {
     "name": "stderr",
     "output_type": "stream",
     "text": [
      "ERROR: pip's dependency resolver does not currently take into account all the packages that are installed. This behaviour is the source of the following dependency conflicts.\n",
      "python-lsp-black 1.2.1 requires black>=22.3.0, but you have black 0.0 which is incompatible.\n",
      "ydata-profiling 4.3.1 requires numpy<1.24,>=1.16.0, but you have numpy 1.24.3 which is incompatible.\n"
     ]
    },
    {
     "name": "stdout",
     "output_type": "stream",
     "text": [
      "Requirement already satisfied: tensorflow in c:\\users\\lalep\\anaconda3\\lib\\site-packages (2.13.0)\n",
      "Requirement already satisfied: tensorflow-intel==2.13.0 in c:\\users\\lalep\\anaconda3\\lib\\site-packages (from tensorflow) (2.13.0)\n",
      "Requirement already satisfied: absl-py>=1.0.0 in c:\\users\\lalep\\anaconda3\\lib\\site-packages (from tensorflow-intel==2.13.0->tensorflow) (1.4.0)\n",
      "Requirement already satisfied: astunparse>=1.6.0 in c:\\users\\lalep\\anaconda3\\lib\\site-packages (from tensorflow-intel==2.13.0->tensorflow) (1.6.3)\n",
      "Requirement already satisfied: flatbuffers>=23.1.21 in c:\\users\\lalep\\anaconda3\\lib\\site-packages (from tensorflow-intel==2.13.0->tensorflow) (23.5.26)\n",
      "Requirement already satisfied: gast<=0.4.0,>=0.2.1 in c:\\users\\lalep\\anaconda3\\lib\\site-packages (from tensorflow-intel==2.13.0->tensorflow) (0.4.0)\n",
      "Requirement already satisfied: google-pasta>=0.1.1 in c:\\users\\lalep\\anaconda3\\lib\\site-packages (from tensorflow-intel==2.13.0->tensorflow) (0.2.0)\n",
      "Requirement already satisfied: h5py>=2.9.0 in c:\\users\\lalep\\anaconda3\\lib\\site-packages (from tensorflow-intel==2.13.0->tensorflow) (3.7.0)\n",
      "Requirement already satisfied: libclang>=13.0.0 in c:\\users\\lalep\\anaconda3\\lib\\site-packages (from tensorflow-intel==2.13.0->tensorflow) (16.0.0)\n",
      "Requirement already satisfied: numpy<=1.24.3,>=1.22 in c:\\users\\lalep\\anaconda3\\lib\\site-packages (from tensorflow-intel==2.13.0->tensorflow) (1.24.3)\n",
      "Requirement already satisfied: opt-einsum>=2.3.2 in c:\\users\\lalep\\anaconda3\\lib\\site-packages (from tensorflow-intel==2.13.0->tensorflow) (3.3.0)\n",
      "Requirement already satisfied: packaging in c:\\users\\lalep\\anaconda3\\lib\\site-packages (from tensorflow-intel==2.13.0->tensorflow) (23.0)\n",
      "Requirement already satisfied: protobuf!=4.21.0,!=4.21.1,!=4.21.2,!=4.21.3,!=4.21.4,!=4.21.5,<5.0.0dev,>=3.20.3 in c:\\users\\lalep\\anaconda3\\lib\\site-packages (from tensorflow-intel==2.13.0->tensorflow) (4.23.4)\n",
      "Requirement already satisfied: setuptools in c:\\users\\lalep\\anaconda3\\lib\\site-packages (from tensorflow-intel==2.13.0->tensorflow) (67.8.0)\n",
      "Requirement already satisfied: six>=1.12.0 in c:\\users\\lalep\\anaconda3\\lib\\site-packages (from tensorflow-intel==2.13.0->tensorflow) (1.16.0)\n",
      "Requirement already satisfied: termcolor>=1.1.0 in c:\\users\\lalep\\anaconda3\\lib\\site-packages (from tensorflow-intel==2.13.0->tensorflow) (2.3.0)\n",
      "Requirement already satisfied: typing-extensions<4.6.0,>=3.6.6 in c:\\users\\lalep\\anaconda3\\lib\\site-packages (from tensorflow-intel==2.13.0->tensorflow) (4.5.0)\n",
      "Requirement already satisfied: wrapt>=1.11.0 in c:\\users\\lalep\\anaconda3\\lib\\site-packages (from tensorflow-intel==2.13.0->tensorflow) (1.14.1)\n",
      "Requirement already satisfied: grpcio<2.0,>=1.24.3 in c:\\users\\lalep\\anaconda3\\lib\\site-packages (from tensorflow-intel==2.13.0->tensorflow) (1.56.0)\n",
      "Requirement already satisfied: tensorboard<2.14,>=2.13 in c:\\users\\lalep\\anaconda3\\lib\\site-packages (from tensorflow-intel==2.13.0->tensorflow) (2.13.0)\n",
      "Requirement already satisfied: tensorflow-estimator<2.14,>=2.13.0 in c:\\users\\lalep\\anaconda3\\lib\\site-packages (from tensorflow-intel==2.13.0->tensorflow) (2.13.0)\n",
      "Requirement already satisfied: keras<2.14,>=2.13.1 in c:\\users\\lalep\\anaconda3\\lib\\site-packages (from tensorflow-intel==2.13.0->tensorflow) (2.13.1)\n",
      "Requirement already satisfied: tensorflow-io-gcs-filesystem>=0.23.1 in c:\\users\\lalep\\anaconda3\\lib\\site-packages (from tensorflow-intel==2.13.0->tensorflow) (0.31.0)\n",
      "Requirement already satisfied: wheel<1.0,>=0.23.0 in c:\\users\\lalep\\anaconda3\\lib\\site-packages (from astunparse>=1.6.0->tensorflow-intel==2.13.0->tensorflow) (0.38.4)\n",
      "Requirement already satisfied: google-auth<3,>=1.6.3 in c:\\users\\lalep\\anaconda3\\lib\\site-packages (from tensorboard<2.14,>=2.13->tensorflow-intel==2.13.0->tensorflow) (2.22.0)\n",
      "Requirement already satisfied: google-auth-oauthlib<1.1,>=0.5 in c:\\users\\lalep\\anaconda3\\lib\\site-packages (from tensorboard<2.14,>=2.13->tensorflow-intel==2.13.0->tensorflow) (1.0.0)\n",
      "Requirement already satisfied: markdown>=2.6.8 in c:\\users\\lalep\\anaconda3\\lib\\site-packages (from tensorboard<2.14,>=2.13->tensorflow-intel==2.13.0->tensorflow) (3.4.1)\n",
      "Requirement already satisfied: requests<3,>=2.21.0 in c:\\users\\lalep\\anaconda3\\lib\\site-packages (from tensorboard<2.14,>=2.13->tensorflow-intel==2.13.0->tensorflow) (2.29.0)\n",
      "Requirement already satisfied: tensorboard-data-server<0.8.0,>=0.7.0 in c:\\users\\lalep\\anaconda3\\lib\\site-packages (from tensorboard<2.14,>=2.13->tensorflow-intel==2.13.0->tensorflow) (0.7.1)\n",
      "Requirement already satisfied: werkzeug>=1.0.1 in c:\\users\\lalep\\anaconda3\\lib\\site-packages (from tensorboard<2.14,>=2.13->tensorflow-intel==2.13.0->tensorflow) (2.2.3)\n",
      "Requirement already satisfied: cachetools<6.0,>=2.0.0 in c:\\users\\lalep\\anaconda3\\lib\\site-packages (from google-auth<3,>=1.6.3->tensorboard<2.14,>=2.13->tensorflow-intel==2.13.0->tensorflow) (5.3.1)\n",
      "Requirement already satisfied: pyasn1-modules>=0.2.1 in c:\\users\\lalep\\anaconda3\\lib\\site-packages (from google-auth<3,>=1.6.3->tensorboard<2.14,>=2.13->tensorflow-intel==2.13.0->tensorflow) (0.2.8)\n",
      "Requirement already satisfied: rsa<5,>=3.1.4 in c:\\users\\lalep\\anaconda3\\lib\\site-packages (from google-auth<3,>=1.6.3->tensorboard<2.14,>=2.13->tensorflow-intel==2.13.0->tensorflow) (4.9)\n",
      "Requirement already satisfied: urllib3<2.0 in c:\\users\\lalep\\anaconda3\\lib\\site-packages (from google-auth<3,>=1.6.3->tensorboard<2.14,>=2.13->tensorflow-intel==2.13.0->tensorflow) (1.26.16)\n",
      "Requirement already satisfied: requests-oauthlib>=0.7.0 in c:\\users\\lalep\\anaconda3\\lib\\site-packages (from google-auth-oauthlib<1.1,>=0.5->tensorboard<2.14,>=2.13->tensorflow-intel==2.13.0->tensorflow) (1.3.1)\n",
      "Requirement already satisfied: importlib-metadata>=4.4 in c:\\users\\lalep\\anaconda3\\lib\\site-packages (from markdown>=2.6.8->tensorboard<2.14,>=2.13->tensorflow-intel==2.13.0->tensorflow) (6.0.0)\n",
      "Requirement already satisfied: charset-normalizer<4,>=2 in c:\\users\\lalep\\anaconda3\\lib\\site-packages (from requests<3,>=2.21.0->tensorboard<2.14,>=2.13->tensorflow-intel==2.13.0->tensorflow) (2.0.4)\n",
      "Requirement already satisfied: idna<4,>=2.5 in c:\\users\\lalep\\anaconda3\\lib\\site-packages (from requests<3,>=2.21.0->tensorboard<2.14,>=2.13->tensorflow-intel==2.13.0->tensorflow) (3.4)\n",
      "Requirement already satisfied: certifi>=2017.4.17 in c:\\users\\lalep\\anaconda3\\lib\\site-packages (from requests<3,>=2.21.0->tensorboard<2.14,>=2.13->tensorflow-intel==2.13.0->tensorflow) (2023.5.7)\n",
      "Requirement already satisfied: MarkupSafe>=2.1.1 in c:\\users\\lalep\\anaconda3\\lib\\site-packages (from werkzeug>=1.0.1->tensorboard<2.14,>=2.13->tensorflow-intel==2.13.0->tensorflow) (2.1.1)\n",
      "Requirement already satisfied: zipp>=0.5 in c:\\users\\lalep\\anaconda3\\lib\\site-packages (from importlib-metadata>=4.4->markdown>=2.6.8->tensorboard<2.14,>=2.13->tensorflow-intel==2.13.0->tensorflow) (3.11.0)\n",
      "Requirement already satisfied: pyasn1<0.5.0,>=0.4.6 in c:\\users\\lalep\\anaconda3\\lib\\site-packages (from pyasn1-modules>=0.2.1->google-auth<3,>=1.6.3->tensorboard<2.14,>=2.13->tensorflow-intel==2.13.0->tensorflow) (0.4.8)\n",
      "Requirement already satisfied: oauthlib>=3.0.0 in c:\\users\\lalep\\anaconda3\\lib\\site-packages (from requests-oauthlib>=0.7.0->google-auth-oauthlib<1.1,>=0.5->tensorboard<2.14,>=2.13->tensorflow-intel==2.13.0->tensorflow) (3.2.2)\n"
     ]
    }
   ],
   "source": [
    "!pip install tensorflow"
   ]
  },
  {
   "cell_type": "code",
   "execution_count": 23,
   "id": "2babc58f",
   "metadata": {},
   "outputs": [
    {
     "name": "stderr",
     "output_type": "stream",
     "text": [
      "WARNING:absl:`lr` is deprecated in Keras optimizer, please use `learning_rate` or use the legacy optimizer, e.g.,tf.keras.optimizers.legacy.Adam.\n",
      "Exception ignored in: <function SimpleImageViewer.__del__ at 0x000002151141DC10>\n",
      "Traceback (most recent call last):\n",
      "  File \"C:\\Users\\lalep\\anaconda3\\lib\\site-packages\\gym\\envs\\classic_control\\rendering.py\", line 458, in __del__\n",
      "    self.close()\n",
      "  File \"C:\\Users\\lalep\\anaconda3\\lib\\site-packages\\gym\\envs\\classic_control\\rendering.py\", line 454, in close\n",
      "    self.window.close()\n",
      "  File \"C:\\Users\\lalep\\anaconda3\\lib\\site-packages\\pyglet\\window\\win32\\__init__.py\", line 299, in close\n",
      "    super(Win32Window, self).close()\n",
      "  File \"C:\\Users\\lalep\\anaconda3\\lib\\site-packages\\pyglet\\window\\__init__.py\", line 658, in close\n",
      "    app.windows.remove(self)\n",
      "  File \"C:\\Users\\lalep\\anaconda3\\lib\\_weakrefset.py\", line 114, in remove\n",
      "    self.data.remove(ref(item))\n",
      "KeyError: <weakref at 0x00000215183A2EA0; to 'Win32Window' at 0x0000021517E8AF10>\n"
     ]
    },
    {
     "ename": "ValueError",
     "evalue": "in user code:\n\n    File \"C:\\Users\\lalep\\anaconda3\\lib\\site-packages\\keras\\src\\engine\\training.py\", line 2341, in predict_function  *\n        return step_function(self, iterator)\n    File \"C:\\Users\\lalep\\anaconda3\\lib\\site-packages\\keras\\src\\engine\\training.py\", line 2327, in step_function  **\n        outputs = model.distribute_strategy.run(run_step, args=(data,))\n    File \"C:\\Users\\lalep\\anaconda3\\lib\\site-packages\\keras\\src\\engine\\training.py\", line 2315, in run_step  **\n        outputs = model.predict_step(data)\n    File \"C:\\Users\\lalep\\anaconda3\\lib\\site-packages\\keras\\src\\engine\\training.py\", line 2283, in predict_step\n        return self(x, training=False)\n    File \"C:\\Users\\lalep\\anaconda3\\lib\\site-packages\\keras\\src\\utils\\traceback_utils.py\", line 70, in error_handler\n        raise e.with_traceback(filtered_tb) from None\n    File \"C:\\Users\\lalep\\anaconda3\\lib\\site-packages\\keras\\src\\engine\\input_spec.py\", line 298, in assert_input_compatibility\n        raise ValueError(\n\n    ValueError: Input 0 of layer \"sequential_12\" is incompatible with the layer: expected shape=(None, 160), found shape=(None, 76800)\n",
     "output_type": "error",
     "traceback": [
      "\u001b[1;31m---------------------------------------------------------------------------\u001b[0m",
      "\u001b[1;31mValueError\u001b[0m                                Traceback (most recent call last)",
      "Cell \u001b[1;32mIn[23], line 78\u001b[0m\n\u001b[0;32m     76\u001b[0m         env\u001b[38;5;241m.\u001b[39mrender()  \u001b[38;5;66;03m# Display the Sokoban game\u001b[39;00m\n\u001b[0;32m     77\u001b[0m     \u001b[38;5;28;01mif\u001b[39;00m \u001b[38;5;28mlen\u001b[39m(agent\u001b[38;5;241m.\u001b[39mmemory) \u001b[38;5;241m>\u001b[39m batch_size:\n\u001b[1;32m---> 78\u001b[0m         \u001b[43magent\u001b[49m\u001b[38;5;241;43m.\u001b[39;49m\u001b[43mreplay\u001b[49m\u001b[43m(\u001b[49m\u001b[43mbatch_size\u001b[49m\u001b[43m)\u001b[49m\n\u001b[0;32m     80\u001b[0m \u001b[38;5;66;03m# Testing the trained agent\u001b[39;00m\n\u001b[0;32m     81\u001b[0m total_steps \u001b[38;5;241m=\u001b[39m \u001b[38;5;241m0\u001b[39m\n",
      "Cell \u001b[1;32mIn[23], line 45\u001b[0m, in \u001b[0;36mDQNAgent.replay\u001b[1;34m(self, batch_size)\u001b[0m\n\u001b[0;32m     43\u001b[0m target \u001b[38;5;241m=\u001b[39m reward\n\u001b[0;32m     44\u001b[0m \u001b[38;5;28;01mif\u001b[39;00m \u001b[38;5;129;01mnot\u001b[39;00m done:\n\u001b[1;32m---> 45\u001b[0m     target \u001b[38;5;241m=\u001b[39m reward \u001b[38;5;241m+\u001b[39m \u001b[38;5;28mself\u001b[39m\u001b[38;5;241m.\u001b[39mgamma \u001b[38;5;241m*\u001b[39m np\u001b[38;5;241m.\u001b[39mamax(\u001b[38;5;28;43mself\u001b[39;49m\u001b[38;5;241;43m.\u001b[39;49m\u001b[43mmodel\u001b[49m\u001b[38;5;241;43m.\u001b[39;49m\u001b[43mpredict\u001b[49m\u001b[43m(\u001b[49m\u001b[43mnext_state\u001b[49m\u001b[43m)\u001b[49m[\u001b[38;5;241m0\u001b[39m])\n\u001b[0;32m     46\u001b[0m target_f \u001b[38;5;241m=\u001b[39m \u001b[38;5;28mself\u001b[39m\u001b[38;5;241m.\u001b[39mmodel\u001b[38;5;241m.\u001b[39mpredict(state)\n\u001b[0;32m     47\u001b[0m target_f[\u001b[38;5;241m0\u001b[39m][action] \u001b[38;5;241m=\u001b[39m target\n",
      "File \u001b[1;32m~\\anaconda3\\lib\\site-packages\\keras\\src\\utils\\traceback_utils.py:70\u001b[0m, in \u001b[0;36mfilter_traceback.<locals>.error_handler\u001b[1;34m(*args, **kwargs)\u001b[0m\n\u001b[0;32m     67\u001b[0m     filtered_tb \u001b[38;5;241m=\u001b[39m _process_traceback_frames(e\u001b[38;5;241m.\u001b[39m__traceback__)\n\u001b[0;32m     68\u001b[0m     \u001b[38;5;66;03m# To get the full stack trace, call:\u001b[39;00m\n\u001b[0;32m     69\u001b[0m     \u001b[38;5;66;03m# `tf.debugging.disable_traceback_filtering()`\u001b[39;00m\n\u001b[1;32m---> 70\u001b[0m     \u001b[38;5;28;01mraise\u001b[39;00m e\u001b[38;5;241m.\u001b[39mwith_traceback(filtered_tb) \u001b[38;5;28;01mfrom\u001b[39;00m \u001b[38;5;28;01mNone\u001b[39;00m\n\u001b[0;32m     71\u001b[0m \u001b[38;5;28;01mfinally\u001b[39;00m:\n\u001b[0;32m     72\u001b[0m     \u001b[38;5;28;01mdel\u001b[39;00m filtered_tb\n",
      "File \u001b[1;32m~\\AppData\\Local\\Temp\\__autograph_generated_fileg2nfirnu.py:15\u001b[0m, in \u001b[0;36mouter_factory.<locals>.inner_factory.<locals>.tf__predict_function\u001b[1;34m(iterator)\u001b[0m\n\u001b[0;32m     13\u001b[0m \u001b[38;5;28;01mtry\u001b[39;00m:\n\u001b[0;32m     14\u001b[0m     do_return \u001b[38;5;241m=\u001b[39m \u001b[38;5;28;01mTrue\u001b[39;00m\n\u001b[1;32m---> 15\u001b[0m     retval_ \u001b[38;5;241m=\u001b[39m ag__\u001b[38;5;241m.\u001b[39mconverted_call(ag__\u001b[38;5;241m.\u001b[39mld(step_function), (ag__\u001b[38;5;241m.\u001b[39mld(\u001b[38;5;28mself\u001b[39m), ag__\u001b[38;5;241m.\u001b[39mld(iterator)), \u001b[38;5;28;01mNone\u001b[39;00m, fscope)\n\u001b[0;32m     16\u001b[0m \u001b[38;5;28;01mexcept\u001b[39;00m:\n\u001b[0;32m     17\u001b[0m     do_return \u001b[38;5;241m=\u001b[39m \u001b[38;5;28;01mFalse\u001b[39;00m\n",
      "\u001b[1;31mValueError\u001b[0m: in user code:\n\n    File \"C:\\Users\\lalep\\anaconda3\\lib\\site-packages\\keras\\src\\engine\\training.py\", line 2341, in predict_function  *\n        return step_function(self, iterator)\n    File \"C:\\Users\\lalep\\anaconda3\\lib\\site-packages\\keras\\src\\engine\\training.py\", line 2327, in step_function  **\n        outputs = model.distribute_strategy.run(run_step, args=(data,))\n    File \"C:\\Users\\lalep\\anaconda3\\lib\\site-packages\\keras\\src\\engine\\training.py\", line 2315, in run_step  **\n        outputs = model.predict_step(data)\n    File \"C:\\Users\\lalep\\anaconda3\\lib\\site-packages\\keras\\src\\engine\\training.py\", line 2283, in predict_step\n        return self(x, training=False)\n    File \"C:\\Users\\lalep\\anaconda3\\lib\\site-packages\\keras\\src\\utils\\traceback_utils.py\", line 70, in error_handler\n        raise e.with_traceback(filtered_tb) from None\n    File \"C:\\Users\\lalep\\anaconda3\\lib\\site-packages\\keras\\src\\engine\\input_spec.py\", line 298, in assert_input_compatibility\n        raise ValueError(\n\n    ValueError: Input 0 of layer \"sequential_12\" is incompatible with the layer: expected shape=(None, 160), found shape=(None, 76800)\n"
     ]
    }
   ],
   "source": [
    "import gym\n",
    "import gym_sokoban\n",
    "import numpy as np\n",
    "from tensorflow.keras.models import Sequential\n",
    "from tensorflow.keras.layers import Dense\n",
    "from tensorflow.keras.optimizers import Adam\n",
    "from collections import deque\n",
    "import random\n",
    "\n",
    "# Define the DQN agent\n",
    "class DQNAgent:\n",
    "    def __init__(self, state_size, action_size):\n",
    "        self.state_size = state_size\n",
    "        self.action_size = action_size\n",
    "        self.memory = deque(maxlen=2000)\n",
    "        self.gamma = 0.95  # Discount factor\n",
    "        self.epsilon = 1.0  # Exploration rate\n",
    "        self.epsilon_decay = 0.995\n",
    "        self.epsilon_min = 0.01\n",
    "        self.learning_rate = 0.001\n",
    "        self.model = self._build_model()\n",
    "\n",
    "    def _build_model(self):\n",
    "        model = Sequential()\n",
    "        model.add(Dense(64, input_dim=self.state_size, activation='relu'))\n",
    "        model.add(Dense(64, activation='relu'))\n",
    "        model.add(Dense(self.action_size, activation='linear'))\n",
    "        model.compile(loss='mse', optimizer=Adam(lr=self.learning_rate))\n",
    "        return model\n",
    "\n",
    "    def remember(self, state, action, reward, next_state, done):\n",
    "        self.memory.append((state, action, reward, next_state, done))\n",
    "\n",
    "    def act(self, state):\n",
    "        if np.random.rand() <= self.epsilon:\n",
    "            return np.random.randint(self.action_size)\n",
    "        q_values = self.model.predict(state)\n",
    "        return np.argmax(q_values[0])\n",
    "\n",
    "    def replay(self, batch_size):\n",
    "        minibatch = random.sample(self.memory, batch_size)\n",
    "        for state, action, reward, next_state, done in minibatch:\n",
    "            target = reward\n",
    "            if not done:\n",
    "                target = reward + self.gamma * np.amax(self.model.predict(next_state)[0])\n",
    "            target_f = self.model.predict(state)\n",
    "            target_f[0][action] = target\n",
    "            self.model.fit(state, target_f, epochs=1, verbose=0)\n",
    "        if self.epsilon > self.epsilon_min:\n",
    "            self.epsilon *= self.epsilon_decay\n",
    "\n",
    "# Create the Sokoban environment\n",
    "env = gym.make('Sokoban-v2')\n",
    "state_size = env.observation_space.shape[0]\n",
    "action_size = env.action_space.n\n",
    "\n",
    "# Create the DQN agent\n",
    "agent = DQNAgent(state_size, action_size)\n",
    "\n",
    "# Training loop\n",
    "episodes = 1000000\n",
    "batch_size = 32\n",
    "for episode in range(episodes):\n",
    "    state = env.reset()\n",
    "    state_size = state.shape[0] * state.shape[1] * state.shape[2]  # Update state_size based on the shape of state\n",
    "    state = np.reshape(state, [1, state_size])\n",
    "    steps = 0\n",
    "    done = False\n",
    "    while not done and steps < 500:  # Maximum number of steps per episode\n",
    "        action = agent.act(state)\n",
    "        next_state, reward, done, _ = env.step(action)\n",
    "        next_state = np.reshape(next_state, [1, state_size])\n",
    "        agent.remember(state, action, reward, next_state, done)\n",
    "        state = next_state\n",
    "        steps += 1\n",
    "        env.render()  # Display the Sokoban game\n",
    "    if len(agent.memory) > batch_size:\n",
    "        agent.replay(batch_size)\n",
    "\n",
    "# Testing the trained agent\n",
    "total_steps = 0\n",
    "episodes = 10\n",
    "for episode in range(episodes):\n",
    "    state = env.reset()\n",
    "    state = np.reshape(state, [1, state_size])\n",
    "    steps = 0\n",
    "    for step in range(500):\n",
    "        action = agent.act(state)\n",
    "        next_state, reward, done, _ = env.step(action)\n",
    "        next_state = np.reshape(next_state, [1, state_size])\n",
    "        state = next_state\n",
    "        steps += 1\n",
    "        env.render()  # Display the Sokoban game\n",
    "        if done:\n",
    "            break\n",
    "    total_steps += steps\n",
    "\n",
    "average_steps = total_steps / episodes\n",
    "print(\"Average number of steps:\", average_steps)\n"
   ]
  },
  {
   "cell_type": "code",
   "execution_count": 1,
   "id": "a8cd260a",
   "metadata": {},
   "outputs": [
    {
     "name": "stdout",
     "output_type": "stream",
     "text": [
      "3.9.17 (main, Jul  5 2023, 21:22:06) [MSC v.1916 64 bit (AMD64)]\n"
     ]
    }
   ],
   "source": [
    "import sys\n",
    "\n",
    "print(sys.version)"
   ]
  },
  {
   "cell_type": "code",
   "execution_count": 9,
   "id": "a9bf06c3",
   "metadata": {},
   "outputs": [
    {
     "name": "stdout",
     "output_type": "stream",
     "text": [
      "Requirement already satisfied: gym==0.21.0 in c:\\users\\lalep\\anaconda3\\lib\\site-packages (0.21.0)\n",
      "Requirement already satisfied: numpy>=1.18.0 in c:\\users\\lalep\\anaconda3\\lib\\site-packages (from gym==0.21.0) (1.24.3)\n",
      "Requirement already satisfied: cloudpickle>=1.2.0 in c:\\users\\lalep\\anaconda3\\lib\\site-packages (from gym==0.21.0) (2.2.1)\n",
      "Note: you may need to restart the kernel to use updated packages.\n"
     ]
    }
   ],
   "source": [
    "pip install gym==0.21.0"
   ]
  },
  {
   "cell_type": "code",
   "execution_count": 10,
   "id": "18100b89",
   "metadata": {},
   "outputs": [
    {
     "name": "stdout",
     "output_type": "stream",
     "text": [
      "0.21.0\n"
     ]
    }
   ],
   "source": [
    "import gym\n",
    "\n",
    "print(gym.__version__)"
   ]
  },
  {
   "cell_type": "code",
   "execution_count": 13,
   "id": "090ab611",
   "metadata": {},
   "outputs": [
    {
     "ename": "NameError",
     "evalue": "name 'state_size' is not defined",
     "output_type": "error",
     "traceback": [
      "\u001b[1;31m---------------------------------------------------------------------------\u001b[0m",
      "\u001b[1;31mNameError\u001b[0m                                 Traceback (most recent call last)",
      "\u001b[1;32m~\\AppData\\Local\\Temp\\ipykernel_516\\854113683.py\u001b[0m in \u001b[0;36m<module>\u001b[1;34m\u001b[0m\n\u001b[1;32m----> 1\u001b[1;33m \u001b[0mstate_size\u001b[0m\u001b[1;33m\u001b[0m\u001b[1;33m\u001b[0m\u001b[0m\n\u001b[0m",
      "\u001b[1;31mNameError\u001b[0m: name 'state_size' is not defined"
     ]
    }
   ],
   "source": [
    "state_size"
   ]
  },
  {
   "cell_type": "code",
   "execution_count": 14,
   "id": "74a1d6d6",
   "metadata": {},
   "outputs": [
    {
     "name": "stdout",
     "output_type": "stream",
     "text": [
      "Requirement already satisfied: numpy in c:\\users\\lalep\\anaconda3\\envs\\rl\\lib\\site-packages (1.21.6)\n",
      "Requirement already satisfied: Pillow in c:\\users\\lalep\\anaconda3\\envs\\rl\\lib\\site-packages (9.5.0)\n",
      "Requirement already satisfied: pyglet in c:\\users\\lalep\\anaconda3\\envs\\rl\\lib\\site-packages (2.0.8)\n",
      "Note: you may need to restart the kernel to use updated packages.\n"
     ]
    }
   ],
   "source": [
    "pip install numpy Pillow pyglet"
   ]
  },
  {
   "cell_type": "code",
   "execution_count": 1,
   "id": "c21b9195",
   "metadata": {},
   "outputs": [
    {
     "name": "stdout",
     "output_type": "stream",
     "text": [
      "^C\n",
      "Note: you may need to restart the kernel to use updated packages.\n"
     ]
    }
   ],
   "source": [
    "pip uninstall gym"
   ]
  },
  {
   "cell_type": "code",
   "execution_count": 3,
   "id": "ca287d22",
   "metadata": {},
   "outputs": [
    {
     "ename": "ModuleNotFoundError",
     "evalue": "No module named 'gym.envs.classic_control.rendering'",
     "output_type": "error",
     "traceback": [
      "\u001b[1;31m---------------------------------------------------------------------------\u001b[0m",
      "\u001b[1;31mModuleNotFoundError\u001b[0m                       Traceback (most recent call last)",
      "\u001b[1;32m~\\AppData\\Local\\Temp\\ipykernel_516\\3062341976.py\u001b[0m in \u001b[0;36m<module>\u001b[1;34m\u001b[0m\n\u001b[1;32m----> 1\u001b[1;33m \u001b[1;32mimport\u001b[0m \u001b[0mgym\u001b[0m\u001b[1;33m.\u001b[0m\u001b[0menvs\u001b[0m\u001b[1;33m.\u001b[0m\u001b[0mclassic_control\u001b[0m\u001b[1;33m.\u001b[0m\u001b[0mrendering\u001b[0m\u001b[1;33m\u001b[0m\u001b[1;33m\u001b[0m\u001b[0m\n\u001b[0m",
      "\u001b[1;31mModuleNotFoundError\u001b[0m: No module named 'gym.envs.classic_control.rendering'"
     ]
    }
   ],
   "source": [
    "import gym.envs.classic_control.rendering"
   ]
  },
  {
   "cell_type": "code",
   "execution_count": 11,
   "id": "5a267433",
   "metadata": {},
   "outputs": [
    {
     "name": "stdout",
     "output_type": "stream",
     "text": [
      "Collecting pyglet\n",
      "  Using cached pyglet-2.0.8-py3-none-any.whl (853 kB)\n",
      "Installing collected packages: pyglet\n",
      "Successfully installed pyglet-2.0.8\n"
     ]
    }
   ],
   "source": [
    "!pip install pyglet\n"
   ]
  },
  {
   "cell_type": "code",
   "execution_count": null,
   "id": "3c7b0623",
   "metadata": {},
   "outputs": [],
   "source": []
  }
 ],
 "metadata": {
  "kernelspec": {
   "display_name": "Python 3 (ipykernel)",
   "language": "python",
   "name": "python3"
  },
  "language_info": {
   "codemirror_mode": {
    "name": "ipython",
    "version": 3
   },
   "file_extension": ".py",
   "mimetype": "text/x-python",
   "name": "python",
   "nbconvert_exporter": "python",
   "pygments_lexer": "ipython3",
   "version": "3.9.7"
  }
 },
 "nbformat": 4,
 "nbformat_minor": 5
}
