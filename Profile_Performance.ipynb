{
 "cells": [
  {
   "cell_type": "code",
   "execution_count": 2,
   "id": "9758b083",
   "metadata": {},
   "outputs": [],
   "source": [
    "import cProfile\n",
    "import gym\n",
    "import gym_sokoban\n",
    "import time\n",
    "import argparse"
   ]
  },
  {
   "cell_type": "code",
   "execution_count": 3,
   "id": "d24a56ed",
   "metadata": {},
   "outputs": [
    {
     "name": "stderr",
     "output_type": "stream",
     "text": [
      "usage: ipykernel_launcher.py [-h] [--rounds rounds] [--env env]\n",
      "ipykernel_launcher.py: error: unrecognized arguments: -f C:\\Users\\lalep\\AppData\\Roaming\\jupyter\\runtime\\kernel-d87030db-bb66-43b3-88f1-1a31a3ca2aa7.json\n"
     ]
    },
    {
     "ename": "SystemExit",
     "evalue": "2",
     "output_type": "error",
     "traceback": [
      "An exception has occurred, use %tb to see the full traceback.\n",
      "\u001b[1;31mSystemExit\u001b[0m\u001b[1;31m:\u001b[0m 2\n"
     ]
    },
    {
     "name": "stderr",
     "output_type": "stream",
     "text": [
      "C:\\Users\\lalep\\anaconda3\\lib\\site-packages\\IPython\\core\\interactiveshell.py:3513: UserWarning: To exit: use 'exit', 'quit', or Ctrl-D.\n",
      "  warn(\"To exit: use 'exit', 'quit', or Ctrl-D.\", stacklevel=1)\n"
     ]
    }
   ],
   "source": [
    "parser = argparse.ArgumentParser(description='Run environment with random selected actions.')\n",
    "parser.add_argument('--rounds', '-r', metavar='rounds', type=int,\n",
    "                    help='number of rounds to play (default: 20)', default=20)\n",
    "parser.add_argument('--env', '-e', metavar='env',\n",
    "                    help='Environment to load (default: Sokoban-v0)', default='Sokoban-v0')\n",
    "\n",
    "\n",
    "args = parser.parse_args()\n",
    "env_name = args.env\n",
    "n = args.rounds\n",
    "\n",
    "cProfile.run('gym.make(\"{}\")'.format(env_name), sort='time')\n",
    "\n",
    "env = gym.make(env_name)\n",
    "\n",
    "start = time.time()\n",
    "for i in range(n):\n",
    "    print('Reset {}/{}'.format(i+1, n))\n",
    "    env.reset()\n",
    "\n",
    "end = time.time()\n",
    "delta = end-start\n",
    "hours, remainder = divmod(delta, 3600)\n",
    "minutes, seconds = divmod(remainder, 60)\n",
    "print('Done.\\nReset {} times in {}:{}:{}'.format(n, int(hours), int(minutes), int(seconds)))\n",
    "hours, remainder = divmod(delta*1.0/n, 3600)\n",
    "minutes, seconds = divmod(remainder, 60)\n",
    "print('Avg {}:{}:{}'.format(int(hours), int(minutes), seconds))\n"
   ]
  }
 ],
 "metadata": {
  "kernelspec": {
   "display_name": "Python 3 (ipykernel)",
   "language": "python",
   "name": "python3"
  },
  "language_info": {
   "codemirror_mode": {
    "name": "ipython",
    "version": 3
   },
   "file_extension": ".py",
   "mimetype": "text/x-python",
   "name": "python",
   "nbconvert_exporter": "python",
   "pygments_lexer": "ipython3",
   "version": "3.9.17"
  }
 },
 "nbformat": 4,
 "nbformat_minor": 5
}
